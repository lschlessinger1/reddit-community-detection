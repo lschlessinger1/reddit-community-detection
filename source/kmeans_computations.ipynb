{
 "cells": [
  {
   "cell_type": "markdown",
   "metadata": {},
   "source": [
    "# Compute Conductances for K-means Clusters"
   ]
  },
  {
   "cell_type": "code",
   "execution_count": 1,
   "metadata": {},
   "outputs": [],
   "source": [
    "import numpy as np\n",
    "import networkx as nx"
   ]
  },
  {
   "cell_type": "code",
   "execution_count": 2,
   "metadata": {},
   "outputs": [],
   "source": [
    "from sklearn import cluster\n",
    "\n",
    "def graph_to_edge_matrix(G):\n",
    "    \"\"\"Convert a networkx graph into an edge matrix.   \n",
    "    Parameters\n",
    "    ----------\n",
    "    G : networkx graph\n",
    "    \"\"\"\n",
    "    # Initialize edge matrix with zeros\n",
    "    edge_mat = np.zeros((len(G), len(G)), dtype=int)\n",
    "\n",
    "    # Loop to set 0 or 1 (diagonal elements are set to 1)\n",
    "    for node in G:\n",
    "        for neighbor in G.neighbors(node):\n",
    "            edge_mat[node][neighbor] = 1\n",
    "        edge_mat[node][node] = 1\n",
    "\n",
    "    return edge_mat"
   ]
  },
  {
   "cell_type": "code",
   "execution_count": 3,
   "metadata": {},
   "outputs": [],
   "source": [
    "def conductances(G, communities):\n",
    "    '''Compute conductance for a list of communities\n",
    "    '''\n",
    "    return [nx.algorithms.cuts.conductance(G, community) for community in communities]"
   ]
  },
  {
   "cell_type": "code",
   "execution_count": 4,
   "metadata": {},
   "outputs": [],
   "source": [
    "# load in preprocessed graph\n",
    "G = nx.read_graphml('graphs/metagraph.graphml')\n",
    "\n",
    "# put together communities\n",
    "cc = nx.convert_node_labels_to_integers(G)\n",
    "em = graph_to_edge_matrix(cc)\n",
    "for i in range(10,101,10):\n",
    "    kmeans = cluster.KMeans(n_clusters=i).fit(em)\n",
    "\n",
    "    kpart = {}\n",
    "    for j in range(len(kmeans.labels_)):\n",
    "        label = kmeans.labels_[j]\n",
    "        if kpart.get(label) is None:\n",
    "            kpart[label] = []\n",
    "        kpart[label].append(j)\n",
    "\n",
    "    ksubgraphs = [nodes for label,nodes in kpart.items()]\n",
    "    \n",
    "    # compute conductances\n",
    "    conductance_list = conductances(cc,ksubgraphs)\n",
    "    print('Min conductance for k={}: {}'.format(i,np.min(conductance_list)))\n",
    "    \n",
    "    # compute modularity\n",
    "    print('Modularity for k={}: {}'.format(i,nx.algorithms.community.quality.modularity(cc,ksubgraphs)))"
   ]
  }
 ],
 "metadata": {
  "kernelspec": {
   "display_name": "Python 3",
   "language": "python",
   "name": "python3"
  },
  "language_info": {
   "codemirror_mode": {
    "name": "ipython",
    "version": 3
   },
   "file_extension": ".py",
   "mimetype": "text/x-python",
   "name": "python",
   "nbconvert_exporter": "python",
   "pygments_lexer": "ipython3",
   "version": "3.6.3"
  }
 },
 "nbformat": 4,
 "nbformat_minor": 2
}
