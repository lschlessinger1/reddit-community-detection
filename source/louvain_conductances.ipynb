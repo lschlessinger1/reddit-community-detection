{
 "cells": [
  {
   "cell_type": "markdown",
   "metadata": {},
   "source": [
    "# Compute conductances for Louvain Method"
   ]
  },
  {
   "cell_type": "code",
   "execution_count": 1,
   "metadata": {},
   "outputs": [],
   "source": [
    "import numpy as np\n",
    "import networkx as nx"
   ]
  },
  {
   "cell_type": "code",
   "execution_count": 2,
   "metadata": {},
   "outputs": [],
   "source": [
    "def gehpi_communities(k):\n",
    "    G = nx.read_graphml('graphs/mmgephi/mmgephi_' + str(k) +'.graphml')\n",
    "    comms = {}\n",
    "    for node in list(G.nodes()):\n",
    "        mc = G.node[node]['Modularity Class']\n",
    "        if comms.get(mc) is None:\n",
    "            comms[mc] =  []\n",
    "        comms[mc].append(node)\n",
    "    subgraphs = [set(nodes) for num,nodes in comms.items()]\n",
    "    return G, subgraphs\n",
    "\n",
    "def conductances(G, communities):\n",
    "    '''Compute conductance for a list of communities\n",
    "    '''\n",
    "    return [nx.algorithms.cuts.conductance(G, community) for community in communities]\n",
    "\n",
    "ks = np.arange(10, 110, 10)\n",
    "\n",
    "# G_community_list = [(G, <list of sets>), \n",
    "# (G, <list of sets>), ..., \n",
    "# (G, <list of sets>)]\n",
    "G_community_list = [gehpi_communities(k) for k in ks]\n",
    "\n",
    "conductance_list = [conductances(G, com) for G, com in G_community_list]\n",
    "\n",
    "avg_conductances = []\n",
    "std_conductances = []\n",
    "for c in conductance_list:\n",
    "    c_arr = np.array(c)\n",
    "    avg_conductances.append(np.average(c_arr))\n",
    "    std_conductances.append(np.std(c_arr))"
   ]
  },
  {
   "cell_type": "code",
   "execution_count": 3,
   "metadata": {},
   "outputs": [],
   "source": [
    "ks = np.arange(10, 110, 10)\n",
    "\n",
    "# G_community_list = [(G, <list of sets>), \n",
    "# (G, <list of sets>), ..., \n",
    "# (G, <list of sets>)]\n",
    "G_community_list = [gehpi_communities(k) for k in ks]"
   ]
  },
  {
   "cell_type": "code",
   "execution_count": 4,
   "metadata": {},
   "outputs": [],
   "source": [
    "conductance_list = [conductances(G, com) for G, com in G_community_list]"
   ]
  },
  {
   "cell_type": "code",
   "execution_count": 5,
   "metadata": {},
   "outputs": [],
   "source": [
    "avg_conductances = []\n",
    "std_conductances = []\n",
    "min_conductances = []\n",
    "for c in conductance_list:\n",
    "    c_arr = np.array(c)\n",
    "    avg_conductances.append(np.average(c_arr))\n",
    "    std_conductances.append(np.std(c_arr))\n",
    "    min_conductances.append(np.min(c_arr))"
   ]
  },
  {
   "cell_type": "code",
   "execution_count": 6,
   "metadata": {},
   "outputs": [
    {
     "data": {
      "text/plain": [
       "[0.042530962728166824,\n",
       " 0.05514396368488896,\n",
       " 0.06288894427812913,\n",
       " 0.06660190465651256,\n",
       " 0.07549622456267892,\n",
       " 0.07755992471905589,\n",
       " 0.0999962860990218,\n",
       " 0.09162603397393834,\n",
       " 0.10936240815423856,\n",
       " 0.11566792172479644]"
      ]
     },
     "execution_count": 6,
     "metadata": {},
     "output_type": "execute_result"
    }
   ],
   "source": [
    "avg_conductances"
   ]
  },
  {
   "cell_type": "code",
   "execution_count": 7,
   "metadata": {},
   "outputs": [
    {
     "data": {
      "text/plain": [
       "[0.017036300200454154,\n",
       " 0.02005939546101479,\n",
       " 0.023796884184335513,\n",
       " 0.02498067278037391,\n",
       " 0.03136628008735781,\n",
       " 0.030533075708712876,\n",
       " 0.04469356966956623,\n",
       " 0.03972690285710025,\n",
       " 0.053446757151336205,\n",
       " 0.06458485296042642]"
      ]
     },
     "execution_count": 7,
     "metadata": {},
     "output_type": "execute_result"
    }
   ],
   "source": [
    "std_conductances"
   ]
  },
  {
   "cell_type": "code",
   "execution_count": 9,
   "metadata": {},
   "outputs": [
    {
     "data": {
      "text/plain": [
       "[0.012210430217961886,\n",
       " 0.016129032258064516,\n",
       " 0.018091242789722076,\n",
       " 0.016129032258064516,\n",
       " 0.01444043321299639,\n",
       " 0.016129032258064516,\n",
       " 0.01444043321299639,\n",
       " 0.018050541516245487,\n",
       " 0.01444043321299639,\n",
       " 0.011235955056179775]"
      ]
     },
     "execution_count": 9,
     "metadata": {},
     "output_type": "execute_result"
    }
   ],
   "source": [
    "min_conductances"
   ]
  }
 ],
 "metadata": {
  "kernelspec": {
   "display_name": "Python 3",
   "language": "python",
   "name": "python3"
  },
  "language_info": {
   "codemirror_mode": {
    "name": "ipython",
    "version": 3
   },
   "file_extension": ".py",
   "mimetype": "text/x-python",
   "name": "python",
   "nbconvert_exporter": "python",
   "pygments_lexer": "ipython3",
   "version": "3.6.3"
  }
 },
 "nbformat": 4,
 "nbformat_minor": 2
}
